{
 "cells": [
  {
   "cell_type": "markdown",
   "id": "a636abec",
   "metadata": {},
   "source": [
    "# Class Assignment for image processing"
   ]
  },
  {
   "cell_type": "markdown",
   "id": "4f7cbc13",
   "metadata": {},
   "source": [
    "### Importing all the required libraries"
   ]
  },
  {
   "cell_type": "code",
   "execution_count": 9,
   "id": "d33b1d85",
   "metadata": {},
   "outputs": [],
   "source": [
    "import cv2\n",
    "from PIL import Image"
   ]
  },
  {
   "cell_type": "markdown",
   "id": "ef85ac83",
   "metadata": {},
   "source": [
    "### Image in colorful form or default form"
   ]
  },
  {
   "cell_type": "code",
   "execution_count": 16,
   "id": "b9d5a3b3",
   "metadata": {},
   "outputs": [],
   "source": [
    "img =cv2.imread(\"sarkar.jpeg\")\n",
    "cv2.imshow(\"image in color\",img)\n",
    "cv2.waitKey(0)\n",
    "cv2.destroyAllWindows()\n"
   ]
  },
  {
   "cell_type": "markdown",
   "id": "9bd525f5",
   "metadata": {},
   "source": [
    "### Image in gray form"
   ]
  },
  {
   "cell_type": "code",
   "execution_count": 7,
   "id": "0f59fbca",
   "metadata": {},
   "outputs": [],
   "source": [
    "img1 =cv2.imread(\"sarkar.jpeg\" , 0)\n",
    "cv2.imshow(\"image in black and white\",img1)\n",
    "cv2.waitKey(0)\n",
    "cv2.destroyAllWindows()"
   ]
  },
  {
   "cell_type": "markdown",
   "id": "3d7e4e4b",
   "metadata": {},
   "source": [
    "### Image in RGB form"
   ]
  },
  {
   "cell_type": "code",
   "execution_count": 11,
   "id": "bcb16ffc",
   "metadata": {},
   "outputs": [],
   "source": [
    "im_rgb = cv2.cvtColor(img, cv2.COLOR_BGR2RGB)\n",
    "cv2.imshow(\"image in RGB\",im_rgb)\n",
    "cv2.waitKey(0)\n",
    "cv2.destroyAllWindows()"
   ]
  }
 ],
 "metadata": {
  "kernelspec": {
   "display_name": "Python 3 (ipykernel)",
   "language": "python",
   "name": "python3"
  },
  "language_info": {
   "codemirror_mode": {
    "name": "ipython",
    "version": 3
   },
   "file_extension": ".py",
   "mimetype": "text/x-python",
   "name": "python",
   "nbconvert_exporter": "python",
   "pygments_lexer": "ipython3",
   "version": "3.9.7"
  }
 },
 "nbformat": 4,
 "nbformat_minor": 5
}
